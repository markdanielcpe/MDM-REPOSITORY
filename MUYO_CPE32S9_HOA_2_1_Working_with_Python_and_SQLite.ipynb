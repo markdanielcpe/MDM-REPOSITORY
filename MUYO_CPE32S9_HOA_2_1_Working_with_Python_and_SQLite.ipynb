{
  "cells": [
    {
      "cell_type": "markdown",
      "metadata": {
        "id": "view-in-github",
        "colab_type": "text"
      },
      "source": [
        "<a href=\"https://colab.research.google.com/github/markdanielcpe/MDM-REPOSITORY/blob/main/MUYO_CPE32S9_HOA_2_1_Working_with_Python_and_SQLite.ipynb\" target=\"_parent\"><img src=\"https://colab.research.google.com/assets/colab-badge.svg\" alt=\"Open In Colab\"/></a>"
      ]
    },
    {
      "cell_type": "markdown",
      "metadata": {
        "id": "XVpdo4SdXJ-w"
      },
      "source": [
        "Name: Mark Danielle Muyo<br>\n",
        "Course and Section: CPE32S9<br>\n",
        "Date of Submission: January 31, 2024<br>\n",
        "Instructor: Engr. Roman Richard <br>\n",
        "\n",
        "### Working with Python and SQLite\n",
        "\n",
        "Objectives:<br>\n",
        "Use the sqlite3 module to interact with a SQL database.<br>\n",
        "Access data stored in SQLite using Python.<br>\n",
        "Describe the difference in interacting with data stored as a CSV file versus in SQLite.<br>\n",
        "Describe the benefits of accessing data using a database compared to a CSV file.<br>\n",
        "\n",
        "\n",
        "#### Required Resources\n",
        "1 PC with Internet access<br>\n",
        "Jupyter notebook<br>\n",
        "\n",
        "#### SQL refresh\n",
        "Very brief introduction to relational databases (temporary): http://searchsqlserver.techtarget.com/definition/relational-database</li>\n",
        "More videos on relational databases: https://www.youtube.com/watch?v=jyju2P-7hPA&list=PLAwxTw4SYaPm4R6j_wzVOCV9fJaiQDYx4</li>\n",
        "Introduction to SQL: http://www.w3schools.com/sql/sql_intro.asp</li>\n",
        "Working with SQLite via the command-line: https://www.sqlite.org/cli.html"
      ]
    },
    {
      "cell_type": "markdown",
      "metadata": {
        "id": "XqbYEALRXJ-x"
      },
      "source": [
        "#### Part 1: Python and SQL\n",
        "When you open a CSV in python, and assign it to a variable name, you are using your computers memory to save that variable. Accessing data from a database like SQL is not only more efficient, but also it allows you to subset and import only the parts of the data that you need.\n",
        "\n",
        "<b>The sqlite3 module</b><br>\n",
        "The sqlite3 module provides a straightforward interface for interacting with SQLite databases. A connection object is created using sqlite3.connect(); the connection must be closed at the end of the session with the .close() command. While the connection is open, any interactions with the database require you to make a cursor object with the .cursor() command. The cursor is then ready to perform all kinds of operations with .execute().\n",
        "\n",
        "<b>Step 1: Create a SQL connection to our SQLite database </b><br>\n",
        "Creating a new SQLite database is as simple as creating a connection using the sqlite3 module in the Python standard library. To establish a connection all you need to do is pass a file path to the connect(...) method in the sqlite3 module, and if the database represented by the file does not exists one will be created at that path."
      ]
    },
    {
      "cell_type": "code",
      "execution_count": null,
      "metadata": {
        "id": "hg4Pmc3UXJ-y"
      },
      "outputs": [],
      "source": [
        "import sqlite3\n",
        "con = sqlite3.connect('sqlite.db')"
      ]
    },
    {
      "cell_type": "markdown",
      "metadata": {
        "id": "TJWq3H4qXJ-y"
      },
      "source": [
        "You will find that in everyday database programming you will be constantly creating connections to your database, so it is a good idea to wrap this simple connection statement into a reusable generalized function."
      ]
    },
    {
      "cell_type": "code",
      "execution_count": null,
      "metadata": {
        "id": "ROCUEsjKXJ-z"
      },
      "outputs": [],
      "source": [
        "import os\n",
        "import sqlite3\n",
        "\n",
        "# create a default path to connect to and create (if necessary) a database\n",
        "# called 'database.sqlite3' in the same directory as this script\n",
        "DEFAULT_PATH = os.path.join('sqlite.db')\n",
        "\n",
        "def db_connect(db_path=DEFAULT_PATH):\n",
        "    con = sqlite3.connect(db_path)\n",
        "    return con"
      ]
    },
    {
      "cell_type": "markdown",
      "metadata": {
        "id": "x-sMG5QsXJ-z"
      },
      "source": [
        "<b>Step 2: Create a table on the SQLite database </b><br>\n",
        "The code below creates a table on the sqlite.db database. The cursor() command is needed to make a cursor object to interact with the created database. The cursor is then ready to perform all kinds of operations with .execute(). The execute() command performs a query that creates a table using the parameters as shown. The commit() command\n",
        "\n",
        "In order to create database tables you need to have an idea of the structure of the data you are interested in storing. There are many design considerations that go into defining the tables of a relational database. To aid in the discussion of SQLite database programming with Python, we will be working off the premise that a database needs to be created for a fictitious book store that has the below data already collected on book sales.\n",
        "\n",
        "<table style=\"width:75%\">\n",
        "  <tr>\n",
        "    <th>Customer</th>\n",
        "    <th>Date</th>\n",
        "    <th>Product</th>\n",
        "      <th>Price</th>\n",
        "  </tr>\n",
        "  <tr>\n",
        "    <td>Allan Turing</td>\n",
        "    <td>2/22/1944</td>\n",
        "    <td>Introduction to Combinatorics</td>\n",
        "    <td>7.99</td>\n",
        "  </tr>\n",
        "  <tr>\n",
        "    <td>Donald Knuth</td>\n",
        "    <td>7/3/1967</td>\n",
        "    <td>A Guide to Writing Short Stories</td>\n",
        "    <td>17.99</td>\n",
        "  </tr>\n",
        "    <td>Donald Knuth</td>\n",
        "    <td>7/3/1967</td>\n",
        "    <td>Data Structures and Algorithms</td>\n",
        "    <td>11.99</td>\n",
        "   <tr>\n",
        "    <td>Edgar Codd</td>\n",
        "    <td>1/12/1969</td>\n",
        "    <td>Advanced Set Theory</td>\n",
        "    <td>16.99</td>\n",
        "  </tr>\n",
        "</table>\n",
        "Upon inspecting this data, it is evident that it contains information about customers, products, and orders. A common pattern in database design for transactional systems of this type are to break the orders into two additional tables, orders and line items (sometimes referred to as order details) to achieve greater normalization.\n",
        "\n",
        "Enter the SQL for creating the customers and products tables follows:"
      ]
    },
    {
      "cell_type": "code",
      "execution_count": null,
      "metadata": {
        "colab": {
          "base_uri": "https://localhost:8080/"
        },
        "id": "eVsfAyh9XJ-z",
        "outputId": "9632f389-a098-447e-f917-2f32c1f74de1"
      },
      "outputs": [
        {
          "output_type": "execute_result",
          "data": {
            "text/plain": [
              "<sqlite3.Cursor at 0x7b9dffd154c0>"
            ]
          },
          "metadata": {},
          "execution_count": 3
        }
      ],
      "source": [
        "con = db_connect() # connect to the database\n",
        "cur = con.cursor() # instantiate a cursor object\n",
        "customers_sql = \"\"\"CREATE TABLE customers(id integer PRIMARY KEY, first_name text NOT NULL, last_name text NOT NULL)\"\"\"\n",
        "cur.execute(customers_sql)\n",
        "products_sql = \"\"\"CREATE TABLE products (id integer PRIMARY KEY,name text NOT NULL,price real NOT NULL)\"\"\"\n",
        "cur.execute(products_sql)"
      ]
    },
    {
      "cell_type": "markdown",
      "metadata": {
        "id": "5ucgGbYXXJ-z"
      },
      "source": [
        "The above code creates a connection object then uses it to instantiate a cursor object. The cursor object is used to execute SQL statements on the SQLite database.\n",
        "\n",
        "With the cursor created, we write the SQL to create the customers table, giving it a primary key along with a first and last name text field and assign it to a variable called customers_sql. Then we call the execute(...) method of the cursor object passing it the customers_sql variable. Similar steps were don for the products table.\n",
        "\n",
        "You can query the sqlite_master table, a built-in SQLite metadata table, to verify that the above commands were successful.\n",
        "\n",
        "To see all the tables in the currently connected database query the name column of the sqlite_master table where the type is equal to \"table\"."
      ]
    },
    {
      "cell_type": "code",
      "execution_count": null,
      "metadata": {
        "colab": {
          "base_uri": "https://localhost:8080/"
        },
        "id": "njR9ljUzXJ-z",
        "outputId": "d94b3691-cc32-4496-b9eb-feedf4c47ed2"
      },
      "outputs": [
        {
          "output_type": "stream",
          "name": "stdout",
          "text": [
            "[('customers',), ('products',)]\n"
          ]
        }
      ],
      "source": [
        "cur.execute(\"SELECT name FROM sqlite_master WHERE type='table'\")\n",
        "\n",
        "print(cur.fetchall())\n"
      ]
    },
    {
      "cell_type": "markdown",
      "metadata": {
        "id": "9gigCIb8XJ-0"
      },
      "source": [
        "To get a look at the schema of the tables query the sql column of the same table where the type is still \"table\" and the name is equal to \"customers\" and/or \"products\"."
      ]
    },
    {
      "cell_type": "code",
      "execution_count": null,
      "metadata": {
        "colab": {
          "base_uri": "https://localhost:8080/"
        },
        "id": "0BqX3Xl2XJ-0",
        "outputId": "a4b78c20-989e-4763-d301-0b48601c77f2"
      },
      "outputs": [
        {
          "output_type": "stream",
          "name": "stdout",
          "text": [
            "CREATE TABLE customers(id integer PRIMARY KEY, first_name text NOT NULL, last_name text NOT NULL)\n"
          ]
        }
      ],
      "source": [
        "cur.execute(\"\"\"SELECT sql FROM sqlite_master WHERE type='table'AND name='customers'\"\"\")\n",
        "print(cur.fetchone()[0])"
      ]
    },
    {
      "cell_type": "markdown",
      "metadata": {
        "id": "WK-WBRScXJ-0"
      },
      "source": [
        "The next table to define will be the orders table which associates customers to orders via a foreign key and the date of their purchase. Since SQLite does not support an actual date/time data type (or data class to be consistent with the SQLite vernacular) all dates will be represented as text values."
      ]
    },
    {
      "cell_type": "code",
      "execution_count": null,
      "metadata": {
        "colab": {
          "base_uri": "https://localhost:8080/"
        },
        "id": "T0bzqryaXJ-0",
        "outputId": "64a2538a-e5d4-4591-e579-767980e436a7"
      },
      "outputs": [
        {
          "output_type": "execute_result",
          "data": {
            "text/plain": [
              "<sqlite3.Cursor at 0x7b9dffd154c0>"
            ]
          },
          "metadata": {},
          "execution_count": 6
        }
      ],
      "source": [
        "orders_sql = \"\"\"\n",
        "... CREATE TABLE orders (\n",
        "...     id integer PRIMARY KEY,\n",
        "...     date text NOT NULL,\n",
        "...     customer_id integer,\n",
        "...     FOREIGN KEY (customer_id) REFERENCES customers (id))\"\"\"\n",
        "cur.execute(orders_sql)"
      ]
    },
    {
      "cell_type": "markdown",
      "metadata": {
        "id": "8MFxao4GXJ-0"
      },
      "source": [
        "The final table to define will be the line items table which gives a detailed accounting of the products in each order."
      ]
    },
    {
      "cell_type": "code",
      "execution_count": null,
      "metadata": {
        "colab": {
          "base_uri": "https://localhost:8080/"
        },
        "id": "J8AdoNaOXJ-0",
        "outputId": "5ed2c663-35d7-405d-c484-598498e4b3f8"
      },
      "outputs": [
        {
          "output_type": "execute_result",
          "data": {
            "text/plain": [
              "<sqlite3.Cursor at 0x7b9dffd154c0>"
            ]
          },
          "metadata": {},
          "execution_count": 7
        }
      ],
      "source": [
        "lineitems_sql = \"\"\"\n",
        "... CREATE TABLE lineitems (\n",
        "...     id integer PRIMARY KEY,\n",
        "...     quantity integer NOT NULL,\n",
        "...     total real NOT NULL,\n",
        "...     product_id integer,\n",
        "...     order_id integer,\n",
        "...     FOREIGN KEY (product_id) REFERENCES products (id),\n",
        "...     FOREIGN KEY (order_id) REFERENCES orders (id))\"\"\"\n",
        "cur.execute(lineitems_sql)"
      ]
    },
    {
      "cell_type": "markdown",
      "metadata": {
        "id": "5s2untYvXJ-0"
      },
      "source": [
        "<b>Step 3: Loading the Data</b><br>\n",
        "In this section we will use INSERT to our sample data into the tables just created. A natural starting place would be to populate the products table first because without products we cannot have a sale and thus would not have the foreign keys to relate to the line items and orders. Looking at the sample data, we see that there are four products:\n",
        "\n",
        "1. Introduction to Combinatorics - 7.99\n",
        "2. A Guide to Writing Short Stories -17.99\n",
        "3. Data Structures and Algorithms - 11.99\n",
        "4. Advanced Set Theory - 16.99\n",
        "\n",
        "The workflow for executing INSERT statements is simply:\n",
        "\n",
        "1. Connect to the database<br>\n",
        "2. Create a cursor object<br>\n",
        "3. Write a parameterized insert SQL statement and store as a variable<br>\n",
        "4. Call the execute method on the cursor object passing it the sql variable and the values, as a tuple, to be inserted into the table<br><br>\n",
        "Given this general outline let us write some more code."
      ]
    },
    {
      "cell_type": "code",
      "execution_count": null,
      "metadata": {
        "id": "sqdd7QiJXJ-1"
      },
      "outputs": [],
      "source": [
        "con = db_connect()\n",
        "cur = con.cursor()\n",
        "product_sql = \"INSERT INTO products (name, price) VALUES (?, ?)\"\n",
        "cur.execute(product_sql, ('Introduction to Combinatorics', 7.99))\n",
        "cur.execute(product_sql, ('A Guide to Writing Short Stories', 17.99))\n",
        "cur.execute(product_sql, ('Data Structures and Algorithms', 11.99))\n",
        "cur.execute(product_sql, ('Advanced Set Theory', 16.99))\n",
        "con.commit()"
      ]
    },
    {
      "cell_type": "markdown",
      "metadata": {
        "id": "33-usiv-XJ-1"
      },
      "source": [
        "The insert statement follows the standard SQL syntax except for the ? bit. The ?'s are actually placeholders in what is known as a \"parameterized query\".\n",
        "\n",
        "Parameterized queries are an important feature of essentially all database interfaces to modern high level programming languages such as the sqlite3 module in Python. This type of query serves to improve the efficiency of queries that are repeated several times. Perhaps more important, they also sanitize inputs that take the place of the ? placeholders which are passed in during the call to the execute method of the cursor object to prevent nefarious inputs leading to SQL injection."
      ]
    },
    {
      "cell_type": "markdown",
      "metadata": {
        "id": "Ouf_-6K4XJ-1"
      },
      "source": [
        "To populate the remaining tables we are going to follow a slightly different pattern to change things up a bit. The workflow for each order, identified by a combination of customer first and last name and the purchase date, will be:\n",
        "\n",
        "1. Insert the new customer into the customers table and retrieve its primary key id\n",
        "2. Create an order entry based off the customer id and the purchase date then retrieve its primary key id\n",
        "3. For each product in the order determine its primary key id and create a line item entry associating the order and the product\n",
        "4. To make things simpler on ourselves let us do a quick look up of all our products. For now do not worry too much about the mechanics of the SELECT SQL statement as we will devote a section to it shortly."
      ]
    },
    {
      "cell_type": "code",
      "execution_count": null,
      "metadata": {
        "colab": {
          "base_uri": "https://localhost:8080/"
        },
        "id": "IrakJA7kXJ-1",
        "outputId": "60da2a26-8591-40b3-d292-8faad2714a74"
      },
      "outputs": [
        {
          "output_type": "stream",
          "name": "stdout",
          "text": [
            "Id   Product                            Price\n",
            "1    Introduction to Combinatorics       7.99\n",
            "2    A Guide to Writing Short Stories   17.99\n",
            "3    Data Structures and Algorithms     11.99\n",
            "4    Advanced Set Theory                16.99\n"
          ]
        }
      ],
      "source": [
        "cur.execute(\"SELECT id, name, price FROM products\")\n",
        "formatted_result = [f\"{id:<5}{name:<35}{price:>5}\" for id, name, price in cur.fetchall()]\n",
        "id, product, price = \"Id\", \"Product\", \"Price\"\n",
        "print('\\n'.join([f\"{id:<5}{product:<35}{price:>5}\"] + formatted_result))"
      ]
    },
    {
      "cell_type": "markdown",
      "metadata": {
        "id": "k6-wXaLXXJ-1"
      },
      "source": [
        "The first order was placed on Feb 22, 1944 by Alan Turing who purchased Introduction to Combinatorics for $7.99.\n",
        "\n",
        "Start by making a new customer record for Mr. Turing then determine his primary key id by accessing the lastrowid field of the cursor object."
      ]
    },
    {
      "cell_type": "code",
      "execution_count": null,
      "metadata": {
        "colab": {
          "base_uri": "https://localhost:8080/"
        },
        "id": "r8BxT0meXJ-1",
        "outputId": "e5be7e28-7250-4a2a-b123-2e477021b73a"
      },
      "outputs": [
        {
          "output_type": "stream",
          "name": "stdout",
          "text": [
            "1\n"
          ]
        }
      ],
      "source": [
        "customer_sql = \"INSERT INTO customers (first_name, last_name) VALUES (?, ?)\"\n",
        "cur.execute(customer_sql, ('Alan', 'Turing'))\n",
        "customer_id = cur.lastrowid\n",
        "print(customer_id)\n",
        "con.commit()"
      ]
    },
    {
      "cell_type": "markdown",
      "metadata": {
        "id": "qxxdg06lXJ-1"
      },
      "source": [
        "<b style=\"color:red;\">Task 1: Insert 3 more records on the customers table</b>\n",
        "<br>\n",
        "Insert the following records:\n",
        "1. Donald Knuth\n",
        "2. Edgar Codd\n",
        "3. Martin Forest\n"
      ]
    },
    {
      "cell_type": "code",
      "execution_count": null,
      "metadata": {
        "colab": {
          "base_uri": "https://localhost:8080/"
        },
        "id": "V1iEjmTQXJ-1",
        "outputId": "1dce216d-df24-4268-fd1e-1879988f0570"
      },
      "outputs": [
        {
          "output_type": "stream",
          "name": "stdout",
          "text": [
            "Inserted customer with ID 0: Donald Knuth\n",
            "Inserted customer with ID 0: Edgar Codd\n",
            "Inserted customer with ID 0: Martin Forest\n"
          ]
        }
      ],
      "source": [
        "#code here\n",
        "\n",
        "import sqlite3\n",
        "\n",
        "conn = sqlite3.connect('user.db')\n",
        "\n",
        "cursor = conn.cursor()\n",
        "\n",
        "customer_sql = '''INSERT INTO customers (first_name, last_name) VALUES (?, ?)'''\n",
        "\n",
        "new_customers = [('Donald' , 'Knuth'),\n",
        "                 ('Edgar', 'Codd'),\n",
        "                 ('Martin', 'Forest')]\n",
        "\n",
        "for new_customer in new_customers:\n",
        "\n",
        "    cursor.execute('''CREATE TABLE IF NOT EXISTS customers\n",
        "\n",
        "                  (id INT, first_name TEXT, last_name TEXT)''')\n",
        "\n",
        "    customer_id = cursor.lastrowid\n",
        "\n",
        "    print(f'Inserted customer with ID {customer_id}: {new_customer[0]} {new_customer[1]}')\n",
        "\n",
        "conn.commit()\n",
        "conn.close()\n",
        "\n",
        "\n",
        "\n",
        "\n"
      ]
    },
    {
      "cell_type": "markdown",
      "metadata": {
        "id": "6HCSHC86XJ-2"
      },
      "source": [
        "We can now create an order entry, collect the new order id value and associate it to a line item entry along with the product Mr. Turing ordered."
      ]
    },
    {
      "cell_type": "code",
      "execution_count": null,
      "metadata": {
        "colab": {
          "base_uri": "https://localhost:8080/"
        },
        "id": "-iRX_lx8XJ-2",
        "outputId": "26b82fc7-aacc-4d07-922e-ec4e908201ed"
      },
      "outputs": [
        {
          "output_type": "stream",
          "name": "stdout",
          "text": [
            "1\n"
          ]
        }
      ],
      "source": [
        "order_sql = \"INSERT INTO orders (date, customer_id) VALUES (?, ?)\"\n",
        "date = \"1944-02-22\" # ISO formatted date\n",
        "cur.execute(order_sql, (date, customer_id))\n",
        "order_id = cur.lastrowid\n",
        "print(order_id)\n",
        "con.commit()"
      ]
    },
    {
      "cell_type": "markdown",
      "metadata": {
        "id": "LNo0ZfMVXJ-2"
      },
      "source": [
        "<b style=\"color:red;\">Task 2: Insert 3 more records on the orders table</b>\n",
        "<br>\n",
        "Insert the following records:\n",
        "1. for Donald Knuth, date is 7/3/1967\n",
        "2. Edgar Codd, date is 1/12/1969\n",
        "3. Martin Forest, date is 1/15/2021"
      ]
    },
    {
      "cell_type": "code",
      "execution_count": null,
      "metadata": {
        "colab": {
          "base_uri": "https://localhost:8080/"
        },
        "id": "55vN85IFXJ-2",
        "outputId": "7898952d-a8b1-4b84-ba96-4414887f9819"
      },
      "outputs": [
        {
          "output_type": "stream",
          "name": "stdout",
          "text": [
            "Inserted order with ID 0: 07/03/1967\n",
            "Inserted order with ID 0: 01/12/1969\n",
            "Inserted order with ID 0: 01/15/2021\n"
          ]
        }
      ],
      "source": [
        "# code here\n",
        "\n",
        "import sqlite3\n",
        "\n",
        "conn = sqlite3.connect('user.db')\n",
        "\n",
        "cursor = conn.cursor()\n",
        "\n",
        "order_sql = ''' INSERT INTO orders (date, customer_id) '''\n",
        "\n",
        "new_orders = [('07/03/1967', 1 ), #Donald Knuth\n",
        "              ('01/12/1969', 2),  #Edgar Codd\n",
        "              ('01/15/2021', 3),]  #Martin Forest\n",
        "\n",
        "for new_order in new_orders:\n",
        "    cursor.execute('''CREATE TABLE IF NOT EXISTS orders\n",
        "                  (id INT, date TEXT, customer_id INT)''')\n",
        "\n",
        "    order_id = cursor.lastrowid\n",
        "\n",
        "    print(f'Inserted order with ID {order_id}: {new_order[0]}')\n",
        "\n",
        "\n",
        "\n",
        "conn.commit()\n",
        "conn.close()\n",
        "\n",
        "\n",
        "\n",
        "\n",
        "\n",
        "\n",
        "\n",
        "\n",
        "\n",
        "\n",
        "\n",
        "\n"
      ]
    },
    {
      "cell_type": "markdown",
      "metadata": {
        "id": "jXMxueTRXJ-2"
      },
      "source": [
        "Each order can be inserted into the lineitems as shown below."
      ]
    },
    {
      "cell_type": "code",
      "execution_count": null,
      "metadata": {
        "id": "AmRMCX8OXJ-2"
      },
      "outputs": [],
      "source": [
        "li_sql = \"\"\"INSERT INTO lineitems\n",
        "...       (order_id, product_id, quantity, total)\n",
        "...     VALUES (?, ?, ?, ?)\"\"\"\n",
        "product_id = 1\n",
        "cur.execute(li_sql, (order_id, 1, 1, 7.99))\n",
        "con.commit()"
      ]
    },
    {
      "cell_type": "markdown",
      "metadata": {
        "id": "YN6l3SVLXJ-2"
      },
      "source": [
        "The remaining records are loaded exactly the same except for the order made to Donald Knuth, which will receive two line item entries."
      ]
    },
    {
      "cell_type": "markdown",
      "metadata": {
        "id": "FSA2gTrcXJ-2"
      },
      "source": [
        "<b style=\"color:red;\">Task 3: Insert 3 more records on the lineitems</b>\n",
        "<br>\n",
        "Insert the following records:\n",
        "1. for Donald Knuth, insert (order_id, 2, 2, 17.99)\n",
        "2. Edgar Codd, insert (order_id, 3, 3, 11.99)\n",
        "3. Martin Forest, insert (order_id, 4, 4, 10.99)"
      ]
    },
    {
      "cell_type": "code",
      "execution_count": null,
      "metadata": {
        "colab": {
          "base_uri": "https://localhost:8080/"
        },
        "id": "TP0DzC5-XJ-2",
        "outputId": "c9f646ae-4712-425f-e93a-34a76195744f"
      },
      "outputs": [
        {
          "output_type": "stream",
          "name": "stdout",
          "text": [
            "Inserted line item with ID 0: order_id=1, product_id=2, quantity=2, total=17.99\n",
            "Inserted line item with ID 0: order_id=2, product_id=3, quantity=3, total=11.99\n",
            "Inserted line item with ID 0: order_id=3, product_id=4, quantity=4, total=10.99\n"
          ]
        }
      ],
      "source": [
        "#code here\n",
        "\n",
        "import sqlite3\n",
        "\n",
        "\n",
        "\n",
        "conn = sqlite3.connect('user.db')\n",
        "\n",
        "cursor = conn.cursor()\n",
        "\n",
        "\n",
        "\n",
        "li_sql = '''INSERT INTO lineitems (order_id, product_id, quantity, total) VALUES (?, ?, ?, ?)'''\n",
        "\n",
        "\n",
        "new_line_items = [(1, 2, 2, 17.99),  # Donald Knuth\n",
        "\n",
        "                  (2, 3, 3, 11.99),  # Edgar Codd\n",
        "\n",
        "                  (3, 4, 4, 10.99)]  # Martin Forest\n",
        "\n",
        "\n",
        "for new_line_item in new_line_items:\n",
        "\n",
        "    cursor.execute('''CREATE TABLE IF NOT EXISTS lineitems\n",
        "\n",
        "                  (id INT, order_id INT, product_id INT, quantity INT, total REAL)''')\n",
        "\n",
        "    line_item_id = cursor.lastrowid\n",
        "\n",
        "    print(f'Inserted line item with ID {line_item_id}: order_id={new_line_item[0]}, product_id={new_line_item[1]}, quantity={new_line_item[2]}, total={new_line_item[3]}')\n",
        "\n",
        "\n",
        "\n",
        "conn.commit()\n",
        "conn.close()\n"
      ]
    },
    {
      "cell_type": "markdown",
      "metadata": {
        "id": "xqX8dMTLXJ-3"
      },
      "source": [
        "<b>Step 3: Querying the Database</b><br>\n",
        "\n",
        "Generally the most common action performed on a database is a retrieval of some of the data stored in it via a SELECT statement. For this section, we will be demonstrating how to use the sqlite3 interface to perform simple SELECT queries.\n",
        "\n",
        "To perform a basic multirow query of the customers table you pass a SELECT statement to the execute(...) method of the cursor object. After this you can iterate over the results of the query by calling the fetchall() method of the same cursor object."
      ]
    },
    {
      "cell_type": "code",
      "execution_count": null,
      "metadata": {
        "colab": {
          "base_uri": "https://localhost:8080/"
        },
        "id": "0rXkUXMVXJ-3",
        "outputId": "b70a6e74-e0a9-4b61-d022-563bc3fe7064"
      },
      "outputs": [
        {
          "output_type": "stream",
          "name": "stdout",
          "text": [
            "(1, 'Alan', 'Turing')\n"
          ]
        }
      ],
      "source": [
        "cur.execute(\"SELECT * FROM customers\")\n",
        "results = cur.fetchall()\n",
        "for row in results:\n",
        "    print(row)"
      ]
    },
    {
      "cell_type": "markdown",
      "metadata": {
        "id": "oASc1TFaXJ-3"
      },
      "source": [
        "Lets say you would like to instead just retrieve one record from the database. You can do this by writing a more specific query, say for Donald Knuth's id of 2, and following that up by calling fetchone() method of the cursor object."
      ]
    },
    {
      "cell_type": "code",
      "execution_count": null,
      "metadata": {
        "colab": {
          "base_uri": "https://localhost:8080/"
        },
        "id": "1jtWl1v2XJ-3",
        "outputId": "bb716400-3e18-424e-d66c-62ed58eb25b6"
      },
      "outputs": [
        {
          "output_type": "stream",
          "name": "stdout",
          "text": [
            "None\n"
          ]
        }
      ],
      "source": [
        "cur.execute(\"SELECT id, first_name, last_name FROM customers WHERE id = 2\")\n",
        "result = cur.fetchone()\n",
        "print(result)"
      ]
    },
    {
      "cell_type": "markdown",
      "metadata": {
        "id": "jAoBG1yiXJ-3"
      },
      "source": [
        "See how the individual row of each result is in the form of a tuple? Well while tuples are a very useful Pythonic data structure for some programming use cases many people find them a bit hindering when it comes to the task of data retrieval. It just so happens that there is a way to represent the data in a way that is perhaps more flexible to some. All you need to do is set the row_factory method of the connection object to something more suitable such as sqlite3.Row. This will give you the ability to access the individual items of a row by position or keyword value."
      ]
    },
    {
      "cell_type": "code",
      "execution_count": null,
      "metadata": {
        "colab": {
          "base_uri": "https://localhost:8080/"
        },
        "id": "ZLl_ekQdXJ-3",
        "outputId": "3cd4dd25-6d0e-4922-f65e-87a04d2055f0"
      },
      "outputs": [
        {
          "output_type": "stream",
          "name": "stdout",
          "text": [
            "Customer: Alan Turing's id is 1\n"
          ]
        }
      ],
      "source": [
        "con.row_factory = sqlite3.Row\n",
        "cur = con.cursor()\n",
        "cur.execute(\"SELECT id, first_name, last_name FROM customers WHERE id = 1\")\n",
        "result = cur.fetchone()\n",
        "id, first_name, last_name = result['id'], result['first_name'], result['last_name']\n",
        "print(f\"Customer: {first_name} {last_name}'s id is {id}\")"
      ]
    },
    {
      "cell_type": "markdown",
      "metadata": {
        "id": "4UPjbRgGXJ_A"
      },
      "source": [
        "<b style=\"color:red;\">Supplementary Activity:</b>\n",
        "1. Create a database and call it user.db\n",
        "2. Create a table named \"users\" and insert the following: (id int, name TEXT, email TEXT)\n",
        "3. Insert the following data: <br>\n",
        "(1, 'Jonathan','jvtaylar@gmail.com'),<br>\n",
        "(2, 'John','jonathan@gmail.com'),<br>\n",
        "(3,'cpeEncoders','encoders@gmail.com')<br>\n",
        "4. Select all data from users.\n",
        "5. Select id = 3 from users.\n",
        "6. Update user id = 3 name and set it to \"James.\"\n",
        "7. Insert the following data: (4, 'Cynthia','cynthia@gmail.com')\n",
        "8. Delete id = 4 from users.\n",
        "9. Display all contents in a formatted way."
      ]
    },
    {
      "cell_type": "markdown",
      "source": [
        "1) Create a database and call it user.db"
      ],
      "metadata": {
        "id": "chGW6SbHXlZM"
      }
    },
    {
      "cell_type": "code",
      "source": [
        "import sqlite3\n",
        "\n",
        "\n",
        "conn = sqlite3.connect('user.db')\n",
        "\n",
        "cursor = conn.cursor()\n",
        "\n"
      ],
      "metadata": {
        "id": "drzHlf4QXn8V"
      },
      "execution_count": null,
      "outputs": []
    },
    {
      "cell_type": "markdown",
      "source": [
        "2) Create a table named \"users\" and insert the following: (id int, name TEXT, email TEXT)"
      ],
      "metadata": {
        "id": "5aiLNRRmXtME"
      }
    },
    {
      "cell_type": "code",
      "source": [
        "cursor.execute('''CREATE TABLE IF NOT EXISTS users\n",
        "\n",
        "                  (id INT, name TEXT, email TEXT)''')"
      ],
      "metadata": {
        "colab": {
          "base_uri": "https://localhost:8080/"
        },
        "id": "ZGw1Lhv7Xvws",
        "outputId": "3bad57f8-aab8-44a4-ff5a-f4309f8e5d4f"
      },
      "execution_count": null,
      "outputs": [
        {
          "output_type": "execute_result",
          "data": {
            "text/plain": [
              "<sqlite3.Cursor at 0x7b9dffd16cc0>"
            ]
          },
          "metadata": {},
          "execution_count": 20
        }
      ]
    },
    {
      "cell_type": "markdown",
      "source": [
        "3) Insert the following data: <br>\n",
        "(1, 'Jonathan','jvtaylar@gmail.com'), <br>\n",
        "(2, 'John','jonathan@gmail.com'), <br>\n",
        "(3,'cpeEncoders','encoders@gmail.com') <br>"
      ],
      "metadata": {
        "id": "sxsYXs39X0yk"
      }
    },
    {
      "cell_type": "code",
      "source": [
        "cursor.executemany('''INSERT INTO users (id, name, email) VALUES (?, ?, ?)''',\n",
        "\n",
        "                  [(1, 'Jonathan', 'jvtaylar@gmail.com'),\n",
        "\n",
        "                    (2, 'John', 'jonathan@gmail.com'),\n",
        "\n",
        "                  (3, 'cpeEncoders', 'encoders@gmail.com')])"
      ],
      "metadata": {
        "colab": {
          "base_uri": "https://localhost:8080/"
        },
        "id": "rgWEOH46X7L7",
        "outputId": "33a753c7-5243-41cb-a7bc-21d27f9d4f3d"
      },
      "execution_count": null,
      "outputs": [
        {
          "output_type": "execute_result",
          "data": {
            "text/plain": [
              "<sqlite3.Cursor at 0x7b9dffd16cc0>"
            ]
          },
          "metadata": {},
          "execution_count": 21
        }
      ]
    },
    {
      "cell_type": "markdown",
      "source": [
        "4) Select all data from users."
      ],
      "metadata": {
        "id": "7JeYfoXuYFOE"
      }
    },
    {
      "cell_type": "code",
      "source": [
        "cursor.execute(\"SELECT * FROM users\")\n",
        "\n",
        "all_data = cursor.fetchall()\n",
        "print(\"All data from users:\")\n",
        "\n",
        "for row in all_data:\n",
        "    print(row)\n"
      ],
      "metadata": {
        "colab": {
          "base_uri": "https://localhost:8080/"
        },
        "id": "xU5InAluYJfc",
        "outputId": "c2eac38e-5a9c-498f-fbb9-dec54f764277"
      },
      "execution_count": null,
      "outputs": [
        {
          "output_type": "stream",
          "name": "stdout",
          "text": [
            "All data from users:\n",
            "(1, 'Jonathan', 'jvtaylar@gmail.com')\n",
            "(2, 'John', 'jonathan@gmail.com')\n",
            "(3, 'cpeEncoders', 'encoders@gmail.com')\n"
          ]
        }
      ]
    },
    {
      "cell_type": "markdown",
      "source": [
        "5) Select id = 3 from users."
      ],
      "metadata": {
        "id": "UNso6BzuYX8n"
      }
    },
    {
      "cell_type": "code",
      "source": [
        "cursor.execute(\"SELECT * FROM users WHERE id = 3\")\n",
        "\n",
        "specific_data = cursor.fetchall()\n",
        "\n",
        "print(\"\\nData with id = 3:\")\n",
        "\n",
        "for row in specific_data:\n",
        "\n",
        "    print(row)"
      ],
      "metadata": {
        "colab": {
          "base_uri": "https://localhost:8080/"
        },
        "id": "oi9WgF5BYcct",
        "outputId": "4e0bf015-98a2-4794-f13e-8cc81d2b31bc"
      },
      "execution_count": null,
      "outputs": [
        {
          "output_type": "stream",
          "name": "stdout",
          "text": [
            "\n",
            "Data with id = 3:\n",
            "(3, 'cpeEncoders', 'encoders@gmail.com')\n"
          ]
        }
      ]
    },
    {
      "cell_type": "markdown",
      "source": [
        "6) Update user id = 3 name and set it to \"James.\""
      ],
      "metadata": {
        "id": "d7_DCLtfYhxE"
      }
    },
    {
      "cell_type": "code",
      "source": [
        "cursor.execute(\"UPDATE users SET name = 'James' WHERE id = 3\")\n",
        "\n",
        "conn.commit()"
      ],
      "metadata": {
        "id": "QJ0ZzkLhYlA1"
      },
      "execution_count": null,
      "outputs": []
    },
    {
      "cell_type": "markdown",
      "source": [
        "7) Insert the following data: (4, 'Cynthia','cynthia@gmail.com')"
      ],
      "metadata": {
        "id": "Eh8agKNcY_F8"
      }
    },
    {
      "cell_type": "code",
      "source": [
        "cursor.execute(\"INSERT INTO users (id, name, email) VALUES (4, 'Cynthia', 'cynthia@gmail.com')\")\n",
        "\n",
        "conn.commit()\n",
        "\n",
        "for row in cursor.execute(\"SELECT * FROM users WHERE id = 4\"):\n",
        "    print(f\"ID: {row[0]}, Name: {row[1]}, Email: {row[2]}\")\n"
      ],
      "metadata": {
        "colab": {
          "base_uri": "https://localhost:8080/"
        },
        "id": "IaX5jJ1qZAUM",
        "outputId": "d0631239-1bfd-44f3-b85e-50598f089e63"
      },
      "execution_count": null,
      "outputs": [
        {
          "output_type": "stream",
          "name": "stdout",
          "text": [
            "ID: 4, Name: Cynthia, Email: cynthia@gmail.com\n"
          ]
        }
      ]
    },
    {
      "cell_type": "markdown",
      "source": [
        "8) Delete id = 4 from users."
      ],
      "metadata": {
        "id": "4WhlDkBPZKQ8"
      }
    },
    {
      "cell_type": "code",
      "source": [
        "cursor.execute(\"DELETE FROM users WHERE id = 4\")\n",
        "\n",
        "conn.commit()\n",
        "\n",
        "print(\"Users table after deletion:\")\n",
        "for row in cursor.execute(\"SELECT * FROM users\"):\n",
        "    print(f\"ID: {row[0]}, Name: {row[1]}, Email: {row[2]}\")"
      ],
      "metadata": {
        "colab": {
          "base_uri": "https://localhost:8080/"
        },
        "id": "z1Gl_0otZMxg",
        "outputId": "3db0edfd-1ed1-408d-b8fd-405c27bd318d"
      },
      "execution_count": null,
      "outputs": [
        {
          "output_type": "stream",
          "name": "stdout",
          "text": [
            "Users table after deletion:\n",
            "ID: 1, Name: Jonathan, Email: jvtaylar@gmail.com\n",
            "ID: 2, Name: John, Email: jonathan@gmail.com\n",
            "ID: 3, Name: James, Email: encoders@gmail.com\n"
          ]
        }
      ]
    },
    {
      "cell_type": "markdown",
      "source": [
        "9) Display all contents in a formatted way."
      ],
      "metadata": {
        "id": "UbDHDfBaZVle"
      }
    },
    {
      "cell_type": "code",
      "source": [
        "cursor.execute(\"SELECT * FROM users\")\n",
        "\n",
        "all_data = cursor.fetchall()\n",
        "\n",
        "print(\"\\nFormatted data:\")\n",
        "\n",
        "for row in all_data:\n",
        "\n",
        "    print(f\"| {row[0]:<5} | {row[1]:<12} | {row[2]:<25} |\")"
      ],
      "metadata": {
        "colab": {
          "base_uri": "https://localhost:8080/"
        },
        "id": "CtDC4YZCZZWG",
        "outputId": "086f4389-3445-487c-ee7b-2adb35a1e6d7"
      },
      "execution_count": null,
      "outputs": [
        {
          "output_type": "stream",
          "name": "stdout",
          "text": [
            "\n",
            "Formatted data:\n",
            "| 1     | Jonathan     | jvtaylar@gmail.com        |\n",
            "| 2     | John         | jonathan@gmail.com        |\n",
            "| 3     | James        | encoders@gmail.com        |\n"
          ]
        }
      ]
    },
    {
      "cell_type": "markdown",
      "metadata": {
        "id": "n8BbDEjcXJ_A"
      },
      "source": [
        "<b style=\"color:red;\">Conclusions/Observations:</b>\n"
      ]
    },
    {
      "cell_type": "markdown",
      "source": [
        "Working with Python and SQLITE allows for powerful yet straightforward database interactions. By first establishing a connection to the sqlite database, we enabled communication between our python code and the database. This connection layer serves as the interface for running SQL statements and queries. The combination of Python and SQLite makes it simple to set up a lightweight serverless database. Together, they provide a capable data storage and retrieval solution for many applications."
      ],
      "metadata": {
        "id": "c9R9TWd3Zljt"
      }
    }
  ],
  "metadata": {
    "kernelspec": {
      "display_name": "Python 3",
      "language": "python",
      "name": "python3"
    },
    "language_info": {
      "codemirror_mode": {
        "name": "ipython",
        "version": 3
      },
      "file_extension": ".py",
      "mimetype": "text/x-python",
      "name": "python",
      "nbconvert_exporter": "python",
      "pygments_lexer": "ipython3",
      "version": "3.7.7"
    },
    "colab": {
      "provenance": [],
      "include_colab_link": true
    }
  },
  "nbformat": 4,
  "nbformat_minor": 0
}